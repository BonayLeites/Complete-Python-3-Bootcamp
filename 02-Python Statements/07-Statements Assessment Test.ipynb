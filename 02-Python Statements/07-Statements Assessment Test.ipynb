{
 "cells": [
  {
   "cell_type": "markdown",
   "metadata": {},
   "source": [
    "___\n",
    "\n",
    "<a href='https://www.udemy.com/user/joseportilla/'><img src='../Pierian_Data_Logo.png'/></a>\n",
    "___\n",
    "<center><em>Content Copyright by Pierian Data</em></center>"
   ]
  },
  {
   "cell_type": "markdown",
   "metadata": {
    "collapsed": true
   },
   "source": [
    "# Statements Assessment Test\n",
    "Let's test your knowledge!"
   ]
  },
  {
   "cell_type": "markdown",
   "metadata": {},
   "source": [
    "_____\n",
    "**Use <code>for</code>, .split(), and <code>if</code> to create a Statement that will print out words that start with 's':**"
   ]
  },
  {
   "cell_type": "code",
   "execution_count": 16,
   "metadata": {
    "collapsed": true
   },
   "outputs": [],
   "source": [
    "st = 'Print only the words that start with s in this sentence'"
   ]
  },
  {
   "cell_type": "code",
   "execution_count": 18,
   "metadata": {
    "collapsed": true
   },
   "outputs": [
    {
     "name": "stdout",
     "output_type": "stream",
     "text": [
      "start\n",
      "s\n",
      "sentence\n"
     ]
    }
   ],
   "source": [
    "#Code here\n",
    "for r in st.split():\n",
    "    if r[0].lower() == 's':\n",
    "        print(r)"
   ]
  },
  {
   "cell_type": "markdown",
   "metadata": {},
   "source": [
    "______\n",
    "**Use range() to print all the even numbers from 0 to 10.**"
   ]
  },
  {
   "cell_type": "code",
   "execution_count": 4,
   "metadata": {
    "collapsed": true
   },
   "outputs": [
    {
     "name": "stdout",
     "output_type": "stream",
     "text": [
      "0\n",
      "2\n",
      "4\n",
      "6\n",
      "8\n",
      "10\n"
     ]
    }
   ],
   "source": [
    "#Code Here\n",
    "for reg in range(0,11):\n",
    "    if reg%2 == 0:\n",
    "        print(reg)"
   ]
  },
  {
   "cell_type": "markdown",
   "metadata": {},
   "source": [
    "___\n",
    "**Use a List Comprehension to create a list of all numbers between 1 and 50 that are divisible by 3.**"
   ]
  },
  {
   "cell_type": "code",
   "execution_count": 5,
   "metadata": {
    "collapsed": true
   },
   "outputs": [
    {
     "name": "stdout",
     "output_type": "stream",
     "text": [
      "[3, 6, 9, 12, 15, 18, 21, 24, 27, 30, 33, 36, 39, 42, 45, 48]\n"
     ]
    }
   ],
   "source": [
    "#Code in this cell\n",
    "list = [x for x in range(1,51) if x%3 == 0]\n",
    "\n",
    "print(list)"
   ]
  },
  {
   "cell_type": "markdown",
   "metadata": {},
   "source": [
    "_____\n",
    "**Go through the string below and if the length of a word is even print \"even!\"**"
   ]
  },
  {
   "cell_type": "code",
   "execution_count": 6,
   "metadata": {
    "collapsed": true
   },
   "outputs": [],
   "source": [
    "st = 'Print every word in this sentence that has an even number of letters'"
   ]
  },
  {
   "cell_type": "code",
   "execution_count": 7,
   "metadata": {
    "collapsed": true
   },
   "outputs": [
    {
     "name": "stdout",
     "output_type": "stream",
     "text": [
      "even! word\n",
      "even! in\n",
      "even! this\n",
      "even! sentence\n",
      "even! that\n",
      "even! an\n",
      "even! even\n",
      "even! number\n",
      "even! of\n"
     ]
    }
   ],
   "source": [
    "#Code in this cell\n",
    "\n",
    "for var in st.split():\n",
    "    if len(var)%2 == 0:\n",
    "        print(f'even! {var}')"
   ]
  },
  {
   "cell_type": "markdown",
   "metadata": {},
   "source": [
    "____\n",
    "**Write a program that prints the integers from 1 to 100. But for multiples of three print \"Fizz\" instead of the number, and for the multiples of five print \"Buzz\". For numbers which are multiples of both three and five print \"FizzBuzz\".**"
   ]
  },
  {
   "cell_type": "code",
   "execution_count": 19,
   "metadata": {
    "collapsed": true
   },
   "outputs": [
    {
     "name": "stdout",
     "output_type": "stream",
     "text": [
      "number: 1 . \n",
      "number: 2 . \n",
      "number: 3 . Fizz\n",
      "number: 4 . \n",
      "number: 5 . Buzz\n",
      "number: 6 . Fizz\n",
      "number: 7 . \n",
      "number: 8 . \n",
      "number: 9 . Fizz\n",
      "number: 10 . Buzz\n",
      "number: 11 . \n",
      "number: 12 . Fizz\n",
      "number: 13 . \n",
      "number: 14 . \n",
      "number: 15 . FizzBuzz\n",
      "number: 16 . \n",
      "number: 17 . \n",
      "number: 18 . Fizz\n",
      "number: 19 . \n",
      "number: 20 . Buzz\n",
      "number: 21 . Fizz\n",
      "number: 22 . \n",
      "number: 23 . \n",
      "number: 24 . Fizz\n",
      "number: 25 . Buzz\n",
      "number: 26 . \n",
      "number: 27 . Fizz\n",
      "number: 28 . \n",
      "number: 29 . \n",
      "number: 30 . FizzBuzz\n",
      "number: 31 . \n",
      "number: 32 . \n",
      "number: 33 . Fizz\n",
      "number: 34 . \n",
      "number: 35 . Buzz\n",
      "number: 36 . Fizz\n",
      "number: 37 . \n",
      "number: 38 . \n",
      "number: 39 . Fizz\n",
      "number: 40 . Buzz\n",
      "number: 41 . \n",
      "number: 42 . Fizz\n",
      "number: 43 . \n",
      "number: 44 . \n",
      "number: 45 . FizzBuzz\n",
      "number: 46 . \n",
      "number: 47 . \n",
      "number: 48 . Fizz\n",
      "number: 49 . \n",
      "number: 50 . Buzz\n",
      "number: 51 . Fizz\n",
      "number: 52 . \n",
      "number: 53 . \n",
      "number: 54 . Fizz\n",
      "number: 55 . Buzz\n",
      "number: 56 . \n",
      "number: 57 . Fizz\n",
      "number: 58 . \n",
      "number: 59 . \n",
      "number: 60 . FizzBuzz\n",
      "number: 61 . \n",
      "number: 62 . \n",
      "number: 63 . Fizz\n",
      "number: 64 . \n",
      "number: 65 . Buzz\n",
      "number: 66 . Fizz\n",
      "number: 67 . \n",
      "number: 68 . \n",
      "number: 69 . Fizz\n",
      "number: 70 . Buzz\n",
      "number: 71 . \n",
      "number: 72 . Fizz\n",
      "number: 73 . \n",
      "number: 74 . \n",
      "number: 75 . FizzBuzz\n",
      "number: 76 . \n",
      "number: 77 . \n",
      "number: 78 . Fizz\n",
      "number: 79 . \n",
      "number: 80 . Buzz\n",
      "number: 81 . Fizz\n",
      "number: 82 . \n",
      "number: 83 . \n",
      "number: 84 . Fizz\n",
      "number: 85 . Buzz\n",
      "number: 86 . \n",
      "number: 87 . Fizz\n",
      "number: 88 . \n",
      "number: 89 . \n",
      "number: 90 . FizzBuzz\n",
      "number: 91 . \n",
      "number: 92 . \n",
      "number: 93 . Fizz\n",
      "number: 94 . \n",
      "number: 95 . Buzz\n",
      "number: 96 . Fizz\n",
      "number: 97 . \n",
      "number: 98 . \n",
      "number: 99 . Fizz\n",
      "number: 100 . Buzz\n"
     ]
    }
   ],
   "source": [
    "#Code in this cell\n",
    "for v_number in range(1,101):\n",
    "    text = ''\n",
    "    if v_number%3==0:\n",
    "        text = 'Fizz'\n",
    "    if v_number%5==0:\n",
    "        text += 'Buzz'    \n",
    "    print(f'number: {v_number} . {text}')"
   ]
  },
  {
   "cell_type": "markdown",
   "metadata": {},
   "source": [
    "____\n",
    "**Use List Comprehension to create a list of the first letters of every word in the string below:**"
   ]
  },
  {
   "cell_type": "code",
   "execution_count": 20,
   "metadata": {
    "collapsed": true
   },
   "outputs": [],
   "source": [
    "st = 'Create a list of the first letters of every word in this string'"
   ]
  },
  {
   "cell_type": "code",
   "execution_count": 21,
   "metadata": {
    "collapsed": true
   },
   "outputs": [
    {
     "name": "stdout",
     "output_type": "stream",
     "text": [
      "['C', 'a', 'l', 'o', 't', 'f', 'l', 'o', 'e', 'w', 'i', 't', 's']\n"
     ]
    }
   ],
   "source": [
    "#Code in this cell\n",
    "\n",
    "list = [x[0] for x in st.split()]\n",
    "\n",
    "print(list)"
   ]
  },
  {
   "cell_type": "markdown",
   "metadata": {},
   "source": [
    "### Great Job!"
   ]
  }
 ],
 "metadata": {
  "kernelspec": {
   "display_name": "Python 3.9.10 64-bit",
   "language": "python",
   "name": "python3"
  },
  "language_info": {
   "codemirror_mode": {
    "name": "ipython",
    "version": 3
   },
   "file_extension": ".py",
   "mimetype": "text/x-python",
   "name": "python",
   "nbconvert_exporter": "python",
   "pygments_lexer": "ipython3",
   "version": "3.9.10"
  },
  "vscode": {
   "interpreter": {
    "hash": "58c117110e8f9a4008443ad00e8c9d45983915ac6a34095d18732e592e6f76d7"
   }
  }
 },
 "nbformat": 4,
 "nbformat_minor": 1
}
